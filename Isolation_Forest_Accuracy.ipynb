{
  "nbformat": 4,
  "nbformat_minor": 0,
  "metadata": {
    "colab": {
      "name": "Isolation_Forest_Accuracy.ipynb",
      "provenance": [],
      "collapsed_sections": [],
      "authorship_tag": "ABX9TyM+2qToeZrFlXFes1HEKMvX",
      "include_colab_link": true
    },
    "kernelspec": {
      "name": "python3",
      "display_name": "Python 3"
    }
  },
  "cells": [
    {
      "cell_type": "markdown",
      "metadata": {
        "id": "view-in-github",
        "colab_type": "text"
      },
      "source": [
        "<a href=\"https://colab.research.google.com/github/GoossensH/BachelorThesis/blob/master/Isolation_Forest_Accuracy.ipynb\" target=\"_parent\"><img src=\"https://colab.research.google.com/assets/colab-badge.svg\" alt=\"Open In Colab\"/></a>"
      ]
    },
    {
      "cell_type": "code",
      "metadata": {
        "id": "y91cHCtKtybz",
        "colab_type": "code",
        "colab": {}
      },
      "source": [
        "#importing the needed files.\n",
        "import os\n",
        "import numpy as np\n",
        "import pandas as pd\n",
        "os.chdir(\"..\")\n"
      ],
      "execution_count": 1,
      "outputs": []
    },
    {
      "cell_type": "code",
      "metadata": {
        "id": "oeR3QW7at0iE",
        "colab_type": "code",
        "colab": {
          "base_uri": "https://localhost:8080/",
          "height": 122
        },
        "outputId": "7be5f532-51d0-4ebf-f066-25fcfd0fb793"
      },
      "source": [
        "#using google drive to get access to the data file stored in my drive account.\n",
        "from google.colab import drive\n",
        "drive.mount('/content/drive')"
      ],
      "execution_count": null,
      "outputs": [
        {
          "output_type": "stream",
          "text": [
            "Go to this URL in a browser: https://accounts.google.com/o/oauth2/auth?client_id=947318989803-6bn6qk8qdgf4n4g3pfee6491hc0brc4i.apps.googleusercontent.com&redirect_uri=urn%3aietf%3awg%3aoauth%3a2.0%3aoob&response_type=code&scope=email%20https%3a%2f%2fwww.googleapis.com%2fauth%2fdocs.test%20https%3a%2f%2fwww.googleapis.com%2fauth%2fdrive%20https%3a%2f%2fwww.googleapis.com%2fauth%2fdrive.photos.readonly%20https%3a%2f%2fwww.googleapis.com%2fauth%2fpeopleapi.readonly\n",
            "\n",
            "Enter your authorization code:\n",
            "··········\n",
            "Mounted at /content/drive\n"
          ],
          "name": "stdout"
        }
      ]
    },
    {
      "cell_type": "code",
      "metadata": {
        "id": "f2_0oTjtFnsc",
        "colab_type": "code",
        "colab": {}
      },
      "source": [
        "#storing the csv files into pandas\n",
        "dataX = pd.read_csv('/content/drive/My Drive/UU/Scriptie/mixed-anomaly-master/http_DataSet/FileX.csv', sep=';')\n",
        "dataY = pd.read_csv('/content/drive/My Drive/UU/Scriptie/mixed-anomaly-master/http_DataSet/FileY.csv', sep=';')"
      ],
      "execution_count": null,
      "outputs": []
    },
    {
      "cell_type": "code",
      "metadata": {
        "id": "WHEAXYAG4DUG",
        "colab_type": "code",
        "colab": {}
      },
      "source": [
        "#importing the isolation forests algorithm from sklearn. https://scikit-learn.org/stable/modules/generated/sklearn.ensemble.IsolationForest.html\n",
        "#fitting the dataset with a certain conatamination\n",
        "x = 0.035\n",
        "from sklearn.ensemble import IsolationForest\n",
        "clf = IsolationForest(contamination=x).fit(dataX)\n"
      ],
      "execution_count": null,
      "outputs": []
    },
    {
      "cell_type": "code",
      "metadata": {
        "id": "OyFAGCC64zZG",
        "colab_type": "code",
        "colab": {
          "base_uri": "https://localhost:8080/",
          "height": 136
        },
        "outputId": "c800780d-0d33-4600-8bd8-0e919f5c7ad2"
      },
      "source": [
        "#Counting the TP/FP/FN/TN and calculating the corresponding precision, recall and fmeasure\n",
        "\n",
        "tp = 0\n",
        "fp = 0\n",
        "fn = 0\n",
        "tn = 0\n",
        "for i in range(567497):\n",
        "  a = clf.predict(dataX.loc[[i]])           #predicting whether the datapoint i is an anomaly\n",
        "  b = dataY.iloc[i].values                  #reading the actual value from the corresponding label\n",
        "  if a == [-1] and b == [1]:\n",
        "    tp += 1\n",
        "  if a == [-1] and b == [0]:\n",
        "    fp += 1\n",
        "  if a == [1] and b == [1]:\n",
        "    fn += 1\n",
        "  if a == [1] and b == [0]:\n",
        "    tn += 1\n",
        "\n",
        "#\n",
        "# Isolation forest returns an 1 for inliers and -1 for outliers\n",
        "# The dataset has inliers marked as 0 and outliers marked as 1. Hence the different values for a and b before the classification\n",
        "#\n",
        "if(fp == 0):\n",
        "  precision = 1\n",
        "else:\n",
        "  precision = tp/ (tp + fp)\n",
        "\n",
        "if(fn == 0):\n",
        "  recall = 1\n",
        "else:\n",
        "  recall = tp/(tp + fn)\n",
        "\n",
        "if (precision + recall == 0):\n",
        "  fmeasure = 0\n",
        "else:\n",
        "  fmeasure = 2*((precision * recall)/ (precision + recall))\n",
        "print(tp)\n",
        "print(fp)\n",
        "print(fn)\n",
        "print(tn)\n",
        "\n",
        "print(precision)\n",
        "print(recall)\n",
        "print(fmeasure)\n"
      ],
      "execution_count": null,
      "outputs": [
        {
          "output_type": "stream",
          "text": [
            "2204\n",
            "30427\n",
            "7\n",
            "534859\n",
            "0.06754313382979375\n",
            "0.9968340117593849\n",
            "0.12651397738361747\n"
          ],
          "name": "stdout"
        }
      ]
    }
  ]
}